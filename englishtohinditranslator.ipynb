{
 "cells": [
  {
   "cell_type": "code",
   "execution_count": 1,
   "id": "f09e5e6b",
   "metadata": {
    "_cell_guid": "b1076dfc-b9ad-4769-8c92-a6c4dae69d19",
    "_uuid": "8f2839f25d086af736a60e9eeb907d3b93b6e0e5",
    "execution": {
     "iopub.execute_input": "2022-06-24T08:42:03.278981Z",
     "iopub.status.busy": "2022-06-24T08:42:03.278106Z",
     "iopub.status.idle": "2022-06-24T08:42:14.449145Z",
     "shell.execute_reply": "2022-06-24T08:42:14.448078Z"
    },
    "papermill": {
     "duration": 11.180067,
     "end_time": "2022-06-24T08:42:14.452025",
     "exception": false,
     "start_time": "2022-06-24T08:42:03.271958",
     "status": "completed"
    },
    "tags": []
   },
   "outputs": [],
   "source": [
    "import numpy as np\n",
    "import matplotlib.pyplot as plt\n",
    "import seaborn as sns \n",
    "import pandas as pd\n",
    "from collections import defaultdict\n",
    "import string\n",
    "import tensorflow as tf\n",
    "import re\n",
    "import os\n",
    "import time\n",
    "from tensorflow import keras\n",
    "from tensorflow.keras.layers import Dense , Input\n",
    "from tensorflow.keras.optimizers import Adam\n",
    "from tensorflow.keras.models import Model\n",
    "from tensorflow.keras.callbacks import ModelCheckpoint\n",
    "from sklearn.preprocessing import OneHotEncoder\n",
    "from sklearn.model_selection import train_test_split\n",
    "\n",
    "        \n"
   ]
  },
  {
   "cell_type": "code",
   "execution_count": 2,
   "id": "f0e30ca0",
   "metadata": {
    "execution": {
     "iopub.execute_input": "2022-06-24T08:42:14.461925Z",
     "iopub.status.busy": "2022-06-24T08:42:14.460846Z",
     "iopub.status.idle": "2022-06-24T08:42:14.466559Z",
     "shell.execute_reply": "2022-06-24T08:42:14.465702Z"
    },
    "papermill": {
     "duration": 0.01277,
     "end_time": "2022-06-24T08:42:14.468622",
     "exception": false,
     "start_time": "2022-06-24T08:42:14.455852",
     "status": "completed"
    },
    "tags": []
   },
   "outputs": [],
   "source": [
    "EncoderLen=50\n",
    "DecoderLen=50\n",
    "Batch_Size=32\n",
    "Buffersize= Batch_Size*4\n"
   ]
  },
  {
   "cell_type": "code",
   "execution_count": 3,
   "id": "f051c2bd",
   "metadata": {
    "execution": {
     "iopub.execute_input": "2022-06-24T08:42:14.477912Z",
     "iopub.status.busy": "2022-06-24T08:42:14.476728Z",
     "iopub.status.idle": "2022-06-24T08:42:15.930395Z",
     "shell.execute_reply": "2022-06-24T08:42:15.929097Z"
    },
    "papermill": {
     "duration": 1.46082,
     "end_time": "2022-06-24T08:42:15.932974",
     "exception": false,
     "start_time": "2022-06-24T08:42:14.472154",
     "status": "completed"
    },
    "tags": []
   },
   "outputs": [],
   "source": [
    "train_df= pd.read_csv(\"../input/hindienglish-corpora/Hindi_English_Truncated_Corpus.csv\")\n"
   ]
  },
  {
   "cell_type": "code",
   "execution_count": 4,
   "id": "0af4d2fb",
   "metadata": {
    "execution": {
     "iopub.execute_input": "2022-06-24T08:42:15.961806Z",
     "iopub.status.busy": "2022-06-24T08:42:15.961089Z",
     "iopub.status.idle": "2022-06-24T08:42:16.139261Z",
     "shell.execute_reply": "2022-06-24T08:42:16.138409Z"
    },
    "papermill": {
     "duration": 0.185925,
     "end_time": "2022-06-24T08:42:16.141380",
     "exception": false,
     "start_time": "2022-06-24T08:42:15.955455",
     "status": "completed"
    },
    "tags": []
   },
   "outputs": [
    {
     "data": {
      "text/html": [
       "<div>\n",
       "<style scoped>\n",
       "    .dataframe tbody tr th:only-of-type {\n",
       "        vertical-align: middle;\n",
       "    }\n",
       "\n",
       "    .dataframe tbody tr th {\n",
       "        vertical-align: top;\n",
       "    }\n",
       "\n",
       "    .dataframe thead th {\n",
       "        text-align: right;\n",
       "    }\n",
       "</style>\n",
       "<table border=\"1\" class=\"dataframe\">\n",
       "  <thead>\n",
       "    <tr style=\"text-align: right;\">\n",
       "      <th></th>\n",
       "      <th>english_sentence</th>\n",
       "      <th>hindi_sentence</th>\n",
       "    </tr>\n",
       "  </thead>\n",
       "  <tbody>\n",
       "    <tr>\n",
       "      <th>0</th>\n",
       "      <td>politicians do not have permission to do what ...</td>\n",
       "      <td>राजनीतिज्ञों के पास जो कार्य करना चाहिए, वह कर...</td>\n",
       "    </tr>\n",
       "    <tr>\n",
       "      <th>1</th>\n",
       "      <td>I'd like to tell you about one such child,</td>\n",
       "      <td>मई आपको ऐसे ही एक बच्चे के बारे में बताना चाहू...</td>\n",
       "    </tr>\n",
       "    <tr>\n",
       "      <th>2</th>\n",
       "      <td>This percentage is even greater than the perce...</td>\n",
       "      <td>यह प्रतिशत भारत में हिन्दुओं प्रतिशत से अधिक है।</td>\n",
       "    </tr>\n",
       "    <tr>\n",
       "      <th>3</th>\n",
       "      <td>what we really mean is that they're bad at not...</td>\n",
       "      <td>हम ये नहीं कहना चाहते कि वो ध्यान नहीं दे पाते</td>\n",
       "    </tr>\n",
       "    <tr>\n",
       "      <th>4</th>\n",
       "      <td>.The ending portion of these Vedas is called U...</td>\n",
       "      <td>इन्हीं वेदों का अंतिम भाग उपनिषद कहलाता है।</td>\n",
       "    </tr>\n",
       "  </tbody>\n",
       "</table>\n",
       "</div>"
      ],
      "text/plain": [
       "                                    english_sentence  \\\n",
       "0  politicians do not have permission to do what ...   \n",
       "1         I'd like to tell you about one such child,   \n",
       "2  This percentage is even greater than the perce...   \n",
       "3  what we really mean is that they're bad at not...   \n",
       "4  .The ending portion of these Vedas is called U...   \n",
       "\n",
       "                                      hindi_sentence  \n",
       "0  राजनीतिज्ञों के पास जो कार्य करना चाहिए, वह कर...  \n",
       "1  मई आपको ऐसे ही एक बच्चे के बारे में बताना चाहू...  \n",
       "2   यह प्रतिशत भारत में हिन्दुओं प्रतिशत से अधिक है।  \n",
       "3     हम ये नहीं कहना चाहते कि वो ध्यान नहीं दे पाते  \n",
       "4        इन्हीं वेदों का अंतिम भाग उपनिषद कहलाता है।  "
      ]
     },
     "execution_count": 4,
     "metadata": {},
     "output_type": "execute_result"
    }
   ],
   "source": [
    "train_df.drop(['source'],axis=1,inplace=True)\n",
    "mask= (train_df['english_sentence'].str.len()>20) &(train_df['english_sentence'].str.len()<200)\n",
    "train_df=train_df.loc[mask]\n",
    "train_df.head()\n"
   ]
  },
  {
   "cell_type": "code",
   "execution_count": 5,
   "id": "ee144574",
   "metadata": {
    "execution": {
     "iopub.execute_input": "2022-06-24T08:42:16.151139Z",
     "iopub.status.busy": "2022-06-24T08:42:16.150558Z",
     "iopub.status.idle": "2022-06-24T08:42:16.159460Z",
     "shell.execute_reply": "2022-06-24T08:42:16.158623Z"
    },
    "papermill": {
     "duration": 0.016395,
     "end_time": "2022-06-24T08:42:16.161814",
     "exception": false,
     "start_time": "2022-06-24T08:42:16.145419",
     "status": "completed"
    },
    "tags": []
   },
   "outputs": [
    {
     "data": {
      "text/html": [
       "<div>\n",
       "<style scoped>\n",
       "    .dataframe tbody tr th:only-of-type {\n",
       "        vertical-align: middle;\n",
       "    }\n",
       "\n",
       "    .dataframe tbody tr th {\n",
       "        vertical-align: top;\n",
       "    }\n",
       "\n",
       "    .dataframe thead th {\n",
       "        text-align: right;\n",
       "    }\n",
       "</style>\n",
       "<table border=\"1\" class=\"dataframe\">\n",
       "  <thead>\n",
       "    <tr style=\"text-align: right;\">\n",
       "      <th></th>\n",
       "      <th>english_sentence</th>\n",
       "      <th>hindi_sentence</th>\n",
       "    </tr>\n",
       "  </thead>\n",
       "  <tbody>\n",
       "    <tr>\n",
       "      <th>0</th>\n",
       "      <td>politicians do not have permission to do what needs to be done.</td>\n",
       "      <td>राजनीतिज्ञों के पास जो कार्य करना चाहिए, वह करने कि अनुमति नहीं है .</td>\n",
       "    </tr>\n",
       "    <tr>\n",
       "      <th>1</th>\n",
       "      <td>I'd like to tell you about one such child,</td>\n",
       "      <td>मई आपको ऐसे ही एक बच्चे के बारे में बताना चाहूंगी,</td>\n",
       "    </tr>\n",
       "    <tr>\n",
       "      <th>2</th>\n",
       "      <td>This percentage is even greater than the percentage in India.</td>\n",
       "      <td>यह प्रतिशत भारत में हिन्दुओं प्रतिशत से अधिक है।</td>\n",
       "    </tr>\n",
       "    <tr>\n",
       "      <th>3</th>\n",
       "      <td>what we really mean is that they're bad at not paying attention.</td>\n",
       "      <td>हम ये नहीं कहना चाहते कि वो ध्यान नहीं दे पाते</td>\n",
       "    </tr>\n",
       "    <tr>\n",
       "      <th>4</th>\n",
       "      <td>.The ending portion of these Vedas is called Upanishad.</td>\n",
       "      <td>इन्हीं वेदों का अंतिम भाग उपनिषद कहलाता है।</td>\n",
       "    </tr>\n",
       "  </tbody>\n",
       "</table>\n",
       "</div>"
      ],
      "text/plain": [
       "                                                   english_sentence  \\\n",
       "0   politicians do not have permission to do what needs to be done.   \n",
       "1                        I'd like to tell you about one such child,   \n",
       "2     This percentage is even greater than the percentage in India.   \n",
       "3  what we really mean is that they're bad at not paying attention.   \n",
       "4           .The ending portion of these Vedas is called Upanishad.   \n",
       "\n",
       "                                                         hindi_sentence  \n",
       "0  राजनीतिज्ञों के पास जो कार्य करना चाहिए, वह करने कि अनुमति नहीं है .  \n",
       "1                    मई आपको ऐसे ही एक बच्चे के बारे में बताना चाहूंगी,  \n",
       "2                      यह प्रतिशत भारत में हिन्दुओं प्रतिशत से अधिक है।  \n",
       "3                        हम ये नहीं कहना चाहते कि वो ध्यान नहीं दे पाते  \n",
       "4                           इन्हीं वेदों का अंतिम भाग उपनिषद कहलाता है।  "
      ]
     },
     "execution_count": 5,
     "metadata": {},
     "output_type": "execute_result"
    }
   ],
   "source": [
    "pd.set_option('display.max_colwidth',None)\n",
    "train_df.head()"
   ]
  },
  {
   "cell_type": "code",
   "execution_count": 6,
   "id": "47320349",
   "metadata": {
    "execution": {
     "iopub.execute_input": "2022-06-24T08:42:16.171762Z",
     "iopub.status.busy": "2022-06-24T08:42:16.171311Z",
     "iopub.status.idle": "2022-06-24T08:42:16.298198Z",
     "shell.execute_reply": "2022-06-24T08:42:16.297202Z"
    },
    "papermill": {
     "duration": 0.134713,
     "end_time": "2022-06-24T08:42:16.300653",
     "exception": false,
     "start_time": "2022-06-24T08:42:16.165940",
     "status": "completed"
    },
    "tags": []
   },
   "outputs": [],
   "source": [
    "eng= train_df['english_sentence']\n",
    "hind= train_df['hindi_sentence']\n",
    "eng= eng.apply(lambda x: \"<SOS> \"+str(x)+\" <EOS>\")\n",
    "hind=hind.apply(lambda x: \"<SOS> \"+x+\" <EOS>\")\n"
   ]
  },
  {
   "cell_type": "code",
   "execution_count": 7,
   "id": "2e15e3f9",
   "metadata": {
    "execution": {
     "iopub.execute_input": "2022-06-24T08:42:16.310901Z",
     "iopub.status.busy": "2022-06-24T08:42:16.310202Z",
     "iopub.status.idle": "2022-06-24T08:42:26.413130Z",
     "shell.execute_reply": "2022-06-24T08:42:26.411982Z"
    },
    "papermill": {
     "duration": 10.111067,
     "end_time": "2022-06-24T08:42:26.415888",
     "exception": false,
     "start_time": "2022-06-24T08:42:16.304821",
     "status": "completed"
    },
    "tags": []
   },
   "outputs": [],
   "source": [
    "filters= '!\"#$%&()*+,-./:;=?@[\\\\]^_`{|}~\\t\\n'\n",
    "token='<unk>'\n",
    "eng_tokenizer= tf.keras.preprocessing.text.Tokenizer(filters=filters,oov_token= token)\n",
    "hind_tokenizer= tf.keras.preprocessing.text.Tokenizer(filters=filters,oov_token=token)\n",
    "eng_tokenizer.fit_on_texts(eng)\n",
    "hind_tokenizer.fit_on_texts(hind)\n",
    "inputs=eng_tokenizer.texts_to_sequences(eng)\n",
    "targets=hind_tokenizer.texts_to_sequences(hind)"
   ]
  },
  {
   "cell_type": "code",
   "execution_count": 8,
   "id": "47ae3fb3",
   "metadata": {
    "execution": {
     "iopub.execute_input": "2022-06-24T08:42:26.433235Z",
     "iopub.status.busy": "2022-06-24T08:42:26.432260Z",
     "iopub.status.idle": "2022-06-24T08:42:26.438378Z",
     "shell.execute_reply": "2022-06-24T08:42:26.437494Z"
    },
    "papermill": {
     "duration": 0.015114,
     "end_time": "2022-06-24T08:42:26.440977",
     "exception": false,
     "start_time": "2022-06-24T08:42:26.425863",
     "status": "completed"
    },
    "tags": []
   },
   "outputs": [
    {
     "name": "stdout",
     "output_type": "stream",
     "text": [
      "56620 65824\n"
     ]
    }
   ],
   "source": [
    "Encoder_Vocab = len(eng_tokenizer.word_index) + 1\n",
    "Decoder_Vocab = len(hind_tokenizer.word_index) + 1\n",
    "print(Encoder_Vocab, Decoder_Vocab)"
   ]
  },
  {
   "cell_type": "code",
   "execution_count": 9,
   "id": "8cf0ad9e",
   "metadata": {
    "execution": {
     "iopub.execute_input": "2022-06-24T08:42:26.451071Z",
     "iopub.status.busy": "2022-06-24T08:42:26.450504Z",
     "iopub.status.idle": "2022-06-24T08:42:27.267868Z",
     "shell.execute_reply": "2022-06-24T08:42:27.267044Z"
    },
    "papermill": {
     "duration": 0.824934,
     "end_time": "2022-06-24T08:42:27.270212",
     "exception": false,
     "start_time": "2022-06-24T08:42:26.445278",
     "status": "completed"
    },
    "tags": []
   },
   "outputs": [
    {
     "name": "stderr",
     "output_type": "stream",
     "text": [
      "2022-06-24 08:42:27.191079: I tensorflow/core/common_runtime/process_util.cc:146] Creating new thread pool with default inter op setting: 2. Tune using inter_op_parallelism_threads for best performance.\n"
     ]
    }
   ],
   "source": [
    "inputs = tf.keras.preprocessing.sequence.pad_sequences(inputs,maxlen=EncoderLen,padding='post',truncating='post')\n",
    "targets= tf.keras.preprocessing.sequence.pad_sequences(targets,maxlen=DecoderLen,padding='post',truncating='post')\n",
    "inputs=tf.cast(inputs, dtype= tf.int64)\n",
    "targets= tf.cast(targets, dtype= tf.int64)\n"
   ]
  },
  {
   "cell_type": "code",
   "execution_count": 10,
   "id": "b3a2bacd",
   "metadata": {
    "execution": {
     "iopub.execute_input": "2022-06-24T08:42:27.280178Z",
     "iopub.status.busy": "2022-06-24T08:42:27.279780Z",
     "iopub.status.idle": "2022-06-24T08:42:27.287895Z",
     "shell.execute_reply": "2022-06-24T08:42:27.286902Z"
    },
    "papermill": {
     "duration": 0.015758,
     "end_time": "2022-06-24T08:42:27.290005",
     "exception": false,
     "start_time": "2022-06-24T08:42:27.274247",
     "status": "completed"
    },
    "tags": []
   },
   "outputs": [
    {
     "data": {
      "text/plain": [
       "<tf.Tensor: shape=(107217, 50), dtype=int64, numpy=\n",
       "array([[   2, 2945,   66, ...,    0,    0,    0],\n",
       "       [   2, 1625,   63, ...,    0,    0,    0],\n",
       "       [   2,   15, 2733, ...,    0,    0,    0],\n",
       "       ...,\n",
       "       [   2,   18,   14, ...,    0,    0,    0],\n",
       "       [   2,   55, 2493, ...,    0,    0,    0],\n",
       "       [   2, 3031,  125, ...,    0,    0,    0]])>"
      ]
     },
     "execution_count": 10,
     "metadata": {},
     "output_type": "execute_result"
    }
   ],
   "source": [
    "inputs"
   ]
  },
  {
   "cell_type": "code",
   "execution_count": 11,
   "id": "f81b00cc",
   "metadata": {
    "execution": {
     "iopub.execute_input": "2022-06-24T08:42:27.300357Z",
     "iopub.status.busy": "2022-06-24T08:42:27.299993Z",
     "iopub.status.idle": "2022-06-24T08:42:27.318550Z",
     "shell.execute_reply": "2022-06-24T08:42:27.317741Z"
    },
    "papermill": {
     "duration": 0.026796,
     "end_time": "2022-06-24T08:42:27.320923",
     "exception": false,
     "start_time": "2022-06-24T08:42:27.294127",
     "status": "completed"
    },
    "tags": []
   },
   "outputs": [],
   "source": [
    "dataset= tf.data.Dataset.from_tensor_slices((inputs,targets)).shuffle(Buffersize).batch(Batch_Size)"
   ]
  },
  {
   "cell_type": "code",
   "execution_count": 12,
   "id": "266e5058",
   "metadata": {
    "execution": {
     "iopub.execute_input": "2022-06-24T08:42:27.331508Z",
     "iopub.status.busy": "2022-06-24T08:42:27.330465Z",
     "iopub.status.idle": "2022-06-24T08:42:27.339283Z",
     "shell.execute_reply": "2022-06-24T08:42:27.338454Z"
    },
    "papermill": {
     "duration": 0.016278,
     "end_time": "2022-06-24T08:42:27.341447",
     "exception": false,
     "start_time": "2022-06-24T08:42:27.325169",
     "status": "completed"
    },
    "tags": []
   },
   "outputs": [],
   "source": [
    "def get_angles(position,i,d_model):\n",
    "    angle_rates= 1/ np.power(10000, (2*(i//2)) / np.float32(d_model))\n",
    "    return postion * angle_rates\n",
    "def positional_encoding(position,d_model):\n",
    "    angle_rads= get_angles(\n",
    "    np.arange(position)[:,np.newaxis],\n",
    "    np.arange(d_model)[np.newaxis,:],\n",
    "    d_model)\n",
    "    \n",
    "    angle_rads[: , 0::2 ]= np.sin(angle_rads[:, 0::2 ])\n",
    "    angle_rads[: , 1::2 ]=np.cos(angle_rads[: , 1::2 ])\n",
    "    \n",
    "    pos_encoding= angle_rads[np.newaxis, ...]\n",
    "    \n",
    "    return tf.cast(pos_encoding , dtype=tf.float32)\n",
    "    "
   ]
  },
  {
   "cell_type": "code",
   "execution_count": 13,
   "id": "15fe6c3e",
   "metadata": {
    "execution": {
     "iopub.execute_input": "2022-06-24T08:42:27.352004Z",
     "iopub.status.busy": "2022-06-24T08:42:27.351043Z",
     "iopub.status.idle": "2022-06-24T08:42:27.356423Z",
     "shell.execute_reply": "2022-06-24T08:42:27.355631Z"
    },
    "papermill": {
     "duration": 0.012857,
     "end_time": "2022-06-24T08:42:27.358555",
     "exception": false,
     "start_time": "2022-06-24T08:42:27.345698",
     "status": "completed"
    },
    "tags": []
   },
   "outputs": [],
   "source": [
    "def create_padding_mask(seq):\n",
    "    seq= tf.cast(tf.math.equal(seq,0), tf.float32)\n",
    "    return seq[:, tf.newaxis,tf.newaxis, :]\n",
    "\n",
    "def create_look_ahead_mask(size):\n",
    "    mask= 1 - tf.linalg.band_part(tf.ones((size,size)),-1,0)\n",
    "    return mask"
   ]
  },
  {
   "cell_type": "code",
   "execution_count": 14,
   "id": "4c2ef653",
   "metadata": {
    "execution": {
     "iopub.execute_input": "2022-06-24T08:42:27.368300Z",
     "iopub.status.busy": "2022-06-24T08:42:27.367932Z",
     "iopub.status.idle": "2022-06-24T08:42:27.373610Z",
     "shell.execute_reply": "2022-06-24T08:42:27.372591Z"
    },
    "papermill": {
     "duration": 0.012895,
     "end_time": "2022-06-24T08:42:27.375591",
     "exception": false,
     "start_time": "2022-06-24T08:42:27.362696",
     "status": "completed"
    },
    "tags": []
   },
   "outputs": [],
   "source": [
    "def scaled_dot_product_attention(q,k,v,mask):\n",
    "    matmul_qk= tf.matmul(q,k,transpose_b=True)\n",
    "    \n",
    "    dk = tf.cast(tf.shape(k)[-1],tf.float32)\n",
    "    scaled_attention_logits= matmul_qk/ tf.math.sqrt(dk)\n",
    "    \n",
    "# if mask is not None:\n",
    " #   scaled_attention_logits += mask\n",
    "    "
   ]
  }
 ],
 "metadata": {
  "kernelspec": {
   "display_name": "Python 3",
   "language": "python",
   "name": "python3"
  },
  "language_info": {
   "codemirror_mode": {
    "name": "ipython",
    "version": 3
   },
   "file_extension": ".py",
   "mimetype": "text/x-python",
   "name": "python",
   "nbconvert_exporter": "python",
   "pygments_lexer": "ipython3",
   "version": "3.7.12"
  },
  "papermill": {
   "default_parameters": {},
   "duration": 36.66119,
   "end_time": "2022-06-24T08:42:30.888332",
   "environment_variables": {},
   "exception": null,
   "input_path": "__notebook__.ipynb",
   "output_path": "__notebook__.ipynb",
   "parameters": {},
   "start_time": "2022-06-24T08:41:54.227142",
   "version": "2.3.4"
  }
 },
 "nbformat": 4,
 "nbformat_minor": 5
}
